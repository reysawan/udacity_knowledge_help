{
 "cells": [
  {
   "cell_type": "markdown",
   "metadata": {
    "slideshow": {
     "slide_type": "slide"
    }
   },
   "source": [
    "# bike-share data exploration\n",
    "## by rey sawan"
   ]
  },
  {
   "cell_type": "markdown",
   "metadata": {
    "slideshow": {
     "slide_type": "slide"
    }
   },
   "source": [
    "## project overview\n",
    "\n",
    "Over the last couple of years, mobility services have grown exponentially. From ride sharing services like Uber and Lyft, to car pooling services, all the way down to bike and scooter sharing services that have cluttered the streets and aggravated many. The quick adoption and high demand of these services has left some serious systemic issues go unchecked and unanswered for. Uber's recent missteps is a prime example of the nascency of legislature and securities of these services, and the chaos that ensues when these services are abused.\n",
    "\n",
    "For this project, I chose to explore Ford Go-Bike's bike sharing data for San Fransisco. The data I've decided to look at spans from mid 2017 through to mid 2020. While this project will leave me far from finding a solution for these systemic issues, it will help me gain a deeper understanding of trends and patterns in its use in San Fransisco. Hopefully getting me closer to understanding what has caused the exponential adoption of these services."
   ]
  },
  {
   "cell_type": "code",
   "execution_count": null,
   "metadata": {
    "slideshow": {
     "slide_type": "skip"
    }
   },
   "outputs": [],
   "source": [
    "# import all packages and set plots to be embedded inline\n",
    "import numpy as np\n",
    "import pandas as pd\n",
    "import matplotlib.pyplot as plt\n",
    "import seaborn as sns\n",
    "\n",
    "%matplotlib inline\n",
    "\n",
    "# suppress warnings from final output\n",
    "import warnings\n",
    "warnings.simplefilter(\"ignore\")"
   ]
  },
  {
   "cell_type": "code",
   "execution_count": null,
   "metadata": {
    "slideshow": {
     "slide_type": "skip"
    }
   },
   "outputs": [],
   "source": [
    "# load in the dataset into a pandas dataframe\n",
    "df = pd.read_csv('ford_gobike_clean.csv')"
   ]
  },
  {
   "cell_type": "code",
   "execution_count": null,
   "metadata": {
    "slideshow": {
     "slide_type": "skip"
    }
   },
   "outputs": [],
   "source": [
    "#do some necessary cleaning for datetime values\n",
    "df.start_time = pd.to_datetime(df['start_time'])\n",
    "df.end_time = pd.to_datetime(df['end_time'])"
   ]
  },
  {
   "cell_type": "markdown",
   "metadata": {
    "slideshow": {
     "slide_type": "slide"
    }
   },
   "source": [
    "## key insights\n",
    "\n",
    "From the data exploration, we uncovered two key insights. Although it's just a small step in the direction of understanding the exponential growht of these services. These two insights help us better understand how and wehn people use Ford Go-Bike's bike sharing services. Helping us make assumptions about their uses for these services. \n",
    "\n",
    "**1. Subscribers' main use for bike sharing services are  specific and planned.**\n",
    "<br>\n",
    "**2. There are two tiers of one time customers: the tourists and the emergency bikers.**"
   ]
  },
  {
   "cell_type": "markdown",
   "metadata": {
    "slideshow": {
     "slide_type": "slide"
    }
   },
   "source": [
    "## 1. Subscribers' main use for bike sharing services are specific and planned. "
   ]
  },
  {
   "cell_type": "markdown",
   "metadata": {
    "slideshow": {
     "slide_type": "slide"
    }
   },
   "source": [
    "### Starting from a basic overview of the data, we can see that a good chunk of rides were from subscribers. "
   ]
  },
  {
   "cell_type": "code",
   "execution_count": null,
   "metadata": {
    "slideshow": {
     "slide_type": "subslide"
    }
   },
   "outputs": [],
   "source": [
    "sns.set(style=\"whitegrid\")\n",
    "sns.set_color_codes(\"pastel\")\n",
    "\n",
    "#how are user types split?\n",
    "df.user_type.value_counts().plot(kind='pie', autopct='%1.1f%%', colors=['b','r']);"
   ]
  },
  {
   "cell_type": "markdown",
   "metadata": {
    "slideshow": {
     "slide_type": "slide"
    }
   },
   "source": [
    "### When looking at the frequency of rides between the two user types, and the distribution of durations, aside from the clear differences in frequency we can see two trends: a bimodal distribution indicating that Subscribers frequent at specific times of the day, and a distribution that indicates Subscribers take shorter trips."
   ]
  },
  {
   "cell_type": "code",
   "execution_count": null,
   "metadata": {
    "slideshow": {
     "slide_type": "subslide"
    }
   },
   "outputs": [],
   "source": [
    "#what does the subscription vs one-time customer usage look like by hour? \n",
    "sns.set(style=\"whitegrid\")\n",
    "sns.set_color_codes(\"pastel\")\n",
    "\n",
    "fig, ax = plt.subplots(ncols = 2, nrows = 2 , figsize = [10,10])\n",
    "\n",
    "time = df[['user_type', 'start_time']].copy()\n",
    "time.start_time = time.start_time.dt.hour\n",
    "\n",
    "time[time.user_type == 'Subscriber']['start_time'].hist(bins=24, rwidth=0.8, color='b', ax = ax[0,0])\n",
    "ax[0,0].set_ylim([0, 1000000])\n",
    "ax[0,0].set_title('Subscriber')\n",
    "ax[0,0].set_ylabel('Frequency')\n",
    "ax[0,0].set_xlabel('Time')\n",
    "\n",
    "time[time.user_type == 'Customer']['start_time'].hist(bins=24, rwidth=0.8, color='r', ax = ax[0,1])\n",
    "ax[0,1].set_ylim([0, 1000000])\n",
    "ax[0,1].set_title('Customer')\n",
    "ax[0,1].set_yticklabels('')\n",
    "ax[0,1].set_xlabel('Time')\n",
    "\n",
    "dur = df[['user_type', 'duration_sec']].copy()\n",
    "#convert to minutes\n",
    "dur.duration_sec = dur.duration_sec / 60\n",
    "\n",
    "#set bin edges to double every minute and locations\n",
    "bin_edges = 2**np.arange(0, np.log2(2048), 1)\n",
    "xtick_locs = [1, 2, 4, 8, 16, 32, 64, 128, 256, 512, 1024, 2048]\n",
    "\n",
    "dur[dur.user_type == 'Subscriber']['duration_sec'].hist(bins=bin_edges, color='b', ax = ax[1,0])\n",
    "ax[1,0].set_xscale('log')\n",
    "ax[1,0].set_xticks(xtick_locs)\n",
    "ax[1,0].set_xticklabels(xtick_locs)\n",
    "ax[1,0].set_xlabel('Duration')\n",
    "ax[1,0].set_ylabel('Frequency')\n",
    "ax[1,0].set_ylim([0, 3200000])\n",
    "\n",
    "dur[dur.user_type == 'Customer']['duration_sec'].hist(bins=bin_edges, color='r', ax = ax[1,1])\n",
    "ax[1,1].set_xscale('log')\n",
    "ax[1,1].set_xticks(xtick_locs)\n",
    "ax[1,1].set_xticklabels(xtick_locs)\n",
    "ax[1,1].set_xlabel('Duration')\n",
    "ax[1,1].set_ylim([0, 3200000])\n",
    "ax[1,1].set_yticklabels('');"
   ]
  },
  {
   "cell_type": "markdown",
   "metadata": {
    "slideshow": {
     "slide_type": "slide"
    }
   },
   "source": [
    "### When we split the data by region we reveal that the \"cities\" tended to have a far greater amount of subscribers to customers. "
   ]
  },
  {
   "cell_type": "code",
   "execution_count": null,
   "metadata": {
    "slideshow": {
     "slide_type": "subslide"
    }
   },
   "outputs": [],
   "source": [
    "plt.figure(figsize = [20, 5])\n",
    "\n",
    "plt.subplot(1, 4, 1)\n",
    "ax = df[df['start_station_area'] == 'San Fransisco']['user_type'].value_counts().plot(kind='pie', autopct='%1.1f%%', colors=['b','r']);\n",
    "ax.set_title('San Fransisco')\n",
    "\n",
    "\n",
    "plt.subplot(1, 4, 2)\n",
    "ax2 = df[df['start_station_area'] == 'East Bay']['user_type'].value_counts().plot(kind='pie', autopct='%1.1f%%', colors=['b','r']);\n",
    "ax2.set_title('East Bay')\n",
    "\n",
    "plt.subplot(1, 4, 3)\n",
    "ax3 = df[df['start_station_area'] == 'San Jose']['user_type'].value_counts().plot(kind='pie', autopct='%1.1f%%', colors=['b','r']);\n",
    "ax3.set_title('San Jose')\n",
    "\n",
    "plt.subplot(1, 4, 4)\n",
    "ax4 = df[df['start_station_area'] == 'Other']['user_type'].value_counts().plot(kind='pie', autopct='%1.1f%%', colors=['r', 'b']);\n",
    "ax4.set_title('Other');"
   ]
  },
  {
   "cell_type": "markdown",
   "metadata": {
    "slideshow": {
     "slide_type": "slide"
    }
   },
   "source": [
    "### Further supported by the distinct bimodal distributions of San Fransisco and East Bay. The two larger cities compared to San Jose and Other (which has been established as mainly out of city bike zones)."
   ]
  },
  {
   "cell_type": "code",
   "execution_count": null,
   "metadata": {
    "slideshow": {
     "slide_type": "subslide"
    }
   },
   "outputs": [],
   "source": [
    "#set up our charts area\n",
    "fig, ax = plt.subplots(ncols = 2, nrows = 4 , figsize = [10,10])\n",
    "\n",
    "#what do regioanl trends look like in duration and by user type?\n",
    "data = df[['user_type', 'start_station_area', 'start_time']].copy()\n",
    "#convert start time to hours\n",
    "data.start_time = data.start_time.dt.hour\n",
    "\n",
    "#set up the data for san fransisco splitting the data by user type\n",
    "data[(data.user_type == 'Subscriber') & (data.start_station_area == 'San Fransisco')]['start_time'].hist(bins=24, color='b', ax = ax[0,0])\n",
    "ax[0,0].set_ylabel('San Fransisco')\n",
    "ax[0,0].set_xticklabels('')\n",
    "ax[0,0].set_ylim([0, 800000])\n",
    "ax[0,0].set_title('Subscriber')\n",
    "\n",
    "data[(data.user_type == 'Customer') & (data.start_station_area == 'San Fransisco')]['start_time'].hist(bins=24, color='r', ax = ax[0,1])\n",
    "ax[0,1].set_yticklabels('')\n",
    "ax[0,1].set_xticklabels('')\n",
    "ax[0,1].set_ylim([0, 800000])\n",
    "ax[0,1].set_title('Customer')\n",
    "\n",
    "\n",
    "#set up the data for san jose splitting the data by user type\n",
    "data[(data.user_type == 'Subscriber') & (data.start_station_area == 'San Jose')]['start_time'].hist(bins=24, color='b', ax = ax[1,0])\n",
    "ax[1,0].set_ylabel('San Jose')\n",
    "ax[1,0].set_xticklabels('')\n",
    "ax[1,0].set_ylim([0, 40000])\n",
    "\n",
    "data[(data.user_type == 'Customer') & (data.start_station_area == 'San Jose')]['start_time'].hist(bins=24, color='r', ax = ax[1,1])\n",
    "ax[1,1].set_yticklabels('')\n",
    "ax[1,1].set_xticklabels('')\n",
    "ax[1,1].set_ylim([0, 40000])\n",
    "\n",
    "\n",
    "#set up the data for east bay splitting the data by user type\n",
    "data[(data.user_type == 'Subscriber') & (data.start_station_area == 'East Bay')]['start_time'].hist(bins=24, color='b', ax = ax[2,0])\n",
    "ax[2,0].set_ylabel('East Bay')\n",
    "ax[2,0].set_xticklabels('')\n",
    "ax[2,0].set_ylim([0, 200000])\n",
    "\n",
    "data[(data.user_type == 'Customer') & (data.start_station_area == 'East Bay')]['start_time'].hist(bins=24, color='r', ax = ax[2,1])\n",
    "ax[2,1].set_yticklabels('')\n",
    "ax[2,1].set_xticklabels('')\n",
    "ax[2,1].set_ylim([0, 200000])\n",
    "\n",
    "\n",
    "#set up the data for other splitting the data by user type\n",
    "data[(data.user_type == 'Subscriber') & (data.start_station_area == 'Other')]['start_time'].hist(bins=24, color='b', ax = ax[3,0])\n",
    "ax[3,0].set_ylabel('Other')\n",
    "ax[3,0].set_ylim([0, 4000])\n",
    "ax[3,0].set_xlabel('Time')\n",
    "\n",
    "data[(data.user_type == 'Customer') & (data.start_station_area == 'Other')]['start_time'].hist(bins=24, color='r', ax = ax[3,1])\n",
    "ax[3,1].set_yticklabels('')\n",
    "ax[3,1].set_ylim([0, 4000])\n",
    "ax[3,1].set_xlabel('Time')\n",
    "\n",
    "plt.show();"
   ]
  },
  {
   "cell_type": "markdown",
   "metadata": {
    "slideshow": {
     "slide_type": "slide"
    }
   },
   "source": [
    "**To condclude the first insight,** Subscribers showed signs of having more specific, commute-related uses for the bike services. While one time customers showed no real indication of recurring time trends -- demonstrating a less specific use for the bikes. If I were working with Ford Go Bike I would encourage the teams to consider targetting their marketing toward working professionals who may struggle with parking or long commutes."
   ]
  },
  {
   "cell_type": "markdown",
   "metadata": {
    "slideshow": {
     "slide_type": "slide"
    }
   },
   "source": [
    "## 2. There are two tiers of one time customers: the tourists and the emergency bikers."
   ]
  },
  {
   "cell_type": "markdown",
   "metadata": {
    "slideshow": {
     "slide_type": "slide"
    }
   },
   "source": [
    "### As discussed in the previous chart, when looking at duration and time rented there didn't seem to be any specific use for bikes when it came to one-time customers. However, when we start looking at when in the week or the year one time customers rented, we start to uncover some new possibilities. <br><br> For the below chart. we can see distinct spikes in use for customers in less city-centric neighborhood around the weekends. This, along with the even distributions of use for one-time customers, hints at the possiblity that one-time customers may be tourists. "
   ]
  },
  {
   "cell_type": "code",
   "execution_count": 8,
   "metadata": {
    "slideshow": {
     "slide_type": "subslide"
    }
   },
   "outputs": [
    {
     "data": {
      "image/png": "[encoded data removed]",
      "text/plain": [
       "<Figure size 432x288 with 2 Axes>"
      ]
     },
     "metadata": {},
     "output_type": "display_data"
    }
   ],
   "source": [
    "#parse the data that we will be looking at\n",
    "data = df[['user_type', 'start_time', 'start_station_area']].copy()\n",
    "#create counts column to track entries\n",
    "data['counts'] = 1 \n",
    "#create month column to track frequency trends throughout the year\n",
    "data['day'] = data['start_time'].dt.weekday\n",
    "\n",
    "#groupby the variables and calculate the averages \n",
    "data = data.groupby(['user_type', 'start_station_area', 'day']).sum().unstack().apply(lambda x: x/x.sum(), axis=1)\n",
    "\n",
    "#create location values  \n",
    "users = [['Subscriber', 'Customer']]\n",
    "\n",
    "#plot heatmap based on location\n",
    "for user in users:\n",
    "        sns.heatmap(data.loc[user])\n",
    "\n",
    "plt.title('Frequency of bike rental by user type, day of week, and area', fontsize=14)\n",
    "plt.xlabel('Day of Week')\n",
    "plt.ylabel('User Type & Area');"
   ]
  },
  {
   "cell_type": "markdown",
   "metadata": {
    "slideshow": {
     "slide_type": "slide"
    }
   },
   "source": [
    "### Looking at this data by month tells a different, much colder story. Activity for one-time customers seems to spike the most in the three first months of the year. When California is arguably at its coldest! This leads me to believe that partial use for one-time customers may be out of emergency. That is, people who typically commute by foot may opt for a quick bike ride instead during the colder months of the year. "
   ]
  },
  {
   "cell_type": "code",
   "execution_count": 9,
   "metadata": {
    "slideshow": {
     "slide_type": "subslide"
    }
   },
   "outputs": [
    {
     "data": {
      "image/png": "[encoded data removed]",
      "text/plain": [
       "<Figure size 432x288 with 2 Axes>"
      ]
     },
     "metadata": {},
     "output_type": "display_data"
    }
   ],
   "source": [
    "#parse the data that we will be looking at\n",
    "data = df[['user_type', 'start_time', 'start_station_area']].copy()\n",
    "#create counts column to track entries\n",
    "data['counts'] = 1 \n",
    "#create month column to track frequency trends throughout the year\n",
    "data['month'] = data['start_time'].dt.month\n",
    "\n",
    "#groupby the variables and calculate the averages \n",
    "data = data.groupby(['user_type', 'start_station_area', 'month']).sum().unstack().apply(lambda x: x/x.sum(), axis=1)\n",
    "\n",
    "#create location values  \n",
    "users = [['Subscriber', 'Customer']]\n",
    "\n",
    "#plot heatmap based on location\n",
    "for user in users:\n",
    "        sns.heatmap(data.loc[user])\n",
    "\n",
    "plt.title('Frequency of bike rental by user type, month, and area', fontsize=14)\n",
    "plt.xlabel('Month')\n",
    "plt.ylabel('User Type & Area');"
   ]
  },
  {
   "cell_type": "markdown",
   "metadata": {
    "slideshow": {
     "slide_type": "slide"
    }
   },
   "source": [
    "**To condclude the second insight,** one-time customers seem to have two uses for bike sharing services: 1) for leisure, and unspecific use, and 2) as an emergency commute option during colder months of the year. If I were working with Ford Go Bike's marketing team, I'd focus my efforts on securing the emergency one-time users as subscribers! Encouraging them to see the benefits of a subscription. "
   ]
  },
  {
   "cell_type": "markdown",
   "metadata": {
    "slideshow": {
     "slide_type": "slide"
    }
   },
   "source": [
    "# Thank you for taking the time to read my report!\n",
    "### If you happen to work for Lyft and enjoyed my take on the data, or are hiring, connect with me on LinkedIn. <br>I'd love to chat! \n",
    "\n",
    "https://www.linkedin.com/in/reysawan/"
   ]
  },
  {
   "cell_type": "code",
   "execution_count": null,
   "metadata": {
    "slideshow": {
     "slide_type": "skip"
    }
   },
   "outputs": [
    {
     "name": "stdout",
     "output_type": "stream",
     "text": [
      "[NbConvertApp] Converting notebook slide_deck_template.ipynb to slides\n",
      "[NbConvertApp] Writing 336499 bytes to slide_deck_template.slides.html\n",
      "[NbConvertApp] Redirecting reveal.js requests to https://cdnjs.cloudflare.com/ajax/libs/reveal.js/3.5.0\n",
      "Serving your slides at http://127.0.0.1:8000/slide_deck_template.slides.html\n",
      "Use Control-C to stop this server\n",
      "WARNING:tornado.access:404 GET /custom.css (127.0.0.1) 10.30ms\n"
     ]
    }
   ],
   "source": [
    "!jupyter nbconvert slide_deck_template.ipynb --to slides --post serve --template output_toggle"
   ]
  },
  {
   "cell_type": "code",
   "execution_count": null,
   "metadata": {},
   "outputs": [],
   "source": []
  }
 ],
 "metadata": {
  "celltoolbar": "Slideshow",
  "kernelspec": {
   "display_name": "Python 3",
   "language": "python",
   "name": "python3"
  },
  "language_info": {
   "codemirror_mode": {
    "name": "ipython",
    "version": 3
   },
   "file_extension": ".py",
   "mimetype": "text/x-python",
   "name": "python",
   "nbconvert_exporter": "python",
   "pygments_lexer": "ipython3",
   "version": "3.7.6"
  }
 },
 "nbformat": 4,
 "nbformat_minor": 2
}
